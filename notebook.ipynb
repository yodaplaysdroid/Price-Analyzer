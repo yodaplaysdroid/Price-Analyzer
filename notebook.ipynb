{
 "cells": [
  {
   "attachments": {},
   "cell_type": "markdown",
   "metadata": {
    "tags": []
   },
   "source": [
    "#### Data Preprocessing"
   ]
  },
  {
   "cell_type": "code",
   "execution_count": 1,
   "metadata": {},
   "outputs": [],
   "source": [
    "import pandas as pd\n",
    "import numpy as np\n",
    "import matplotlib.pyplot as plt\n",
    "%matplotlib inline"
   ]
  },
  {
   "cell_type": "code",
   "execution_count": 2,
   "metadata": {},
   "outputs": [
    {
     "name": "stdout",
     "output_type": "stream",
     "text": [
      "data[0] :  [1324.74]\n",
      "shape :  (10000, 1)\n"
     ]
    },
    {
     "data": {
      "text/html": [
       "<div>\n",
       "<style scoped>\n",
       "    .dataframe tbody tr th:only-of-type {\n",
       "        vertical-align: middle;\n",
       "    }\n",
       "\n",
       "    .dataframe tbody tr th {\n",
       "        vertical-align: top;\n",
       "    }\n",
       "\n",
       "    .dataframe thead th {\n",
       "        text-align: right;\n",
       "    }\n",
       "</style>\n",
       "<table border=\"1\" class=\"dataframe\">\n",
       "  <thead>\n",
       "    <tr style=\"text-align: right;\">\n",
       "      <th></th>\n",
       "      <th>close</th>\n",
       "    </tr>\n",
       "  </thead>\n",
       "  <tbody>\n",
       "    <tr>\n",
       "      <th>0</th>\n",
       "      <td>1324.74</td>\n",
       "    </tr>\n",
       "    <tr>\n",
       "      <th>1</th>\n",
       "      <td>1299.68</td>\n",
       "    </tr>\n",
       "    <tr>\n",
       "      <th>2</th>\n",
       "      <td>1301.01</td>\n",
       "    </tr>\n",
       "    <tr>\n",
       "      <th>3</th>\n",
       "      <td>1275.91</td>\n",
       "    </tr>\n",
       "    <tr>\n",
       "      <th>4</th>\n",
       "      <td>1277.11</td>\n",
       "    </tr>\n",
       "    <tr>\n",
       "      <th>...</th>\n",
       "      <td>...</td>\n",
       "    </tr>\n",
       "    <tr>\n",
       "      <th>9995</th>\n",
       "      <td>2017.14</td>\n",
       "    </tr>\n",
       "    <tr>\n",
       "      <th>9996</th>\n",
       "      <td>2015.83</td>\n",
       "    </tr>\n",
       "    <tr>\n",
       "      <th>9997</th>\n",
       "      <td>2018.04</td>\n",
       "    </tr>\n",
       "    <tr>\n",
       "      <th>9998</th>\n",
       "      <td>2023.75</td>\n",
       "    </tr>\n",
       "    <tr>\n",
       "      <th>9999</th>\n",
       "      <td>2023.11</td>\n",
       "    </tr>\n",
       "  </tbody>\n",
       "</table>\n",
       "<p>10000 rows × 1 columns</p>\n",
       "</div>"
      ],
      "text/plain": [
       "        close\n",
       "0     1324.74\n",
       "1     1299.68\n",
       "2     1301.01\n",
       "3     1275.91\n",
       "4     1277.11\n",
       "...       ...\n",
       "9995  2017.14\n",
       "9996  2015.83\n",
       "9997  2018.04\n",
       "9998  2023.75\n",
       "9999  2023.11\n",
       "\n",
       "[10000 rows x 1 columns]"
      ]
     },
     "execution_count": 2,
     "metadata": {},
     "output_type": "execute_result"
    }
   ],
   "source": [
    "df = pd.read_csv(\"data/XAUUSD_H4.csv\").drop(columns=[\"real_volume\"])\n",
    "xau = pd.DataFrame(df[\"time\"])\n",
    "\n",
    "xau[\"close\"] = df[\"close\"]\n",
    "xau.drop(columns=[\"time\"], inplace=True)\n",
    "data = xau.values\n",
    "\n",
    "print(\"data[0] : \", data[0])\n",
    "print(\"shape : \", np.array(data).shape)\n",
    "xau"
   ]
  },
  {
   "cell_type": "code",
   "execution_count": 3,
   "metadata": {},
   "outputs": [
    {
     "name": "stdout",
     "output_type": "stream",
     "text": [
      "data[0] :  [0.20944738]\n",
      "shape :  (10000, 1)\n"
     ]
    }
   ],
   "source": [
    "from sklearn.preprocessing import MinMaxScaler\n",
    "scaler = MinMaxScaler(feature_range=(0, 1))\n",
    "data = scaler.fit_transform(data)\n",
    "\n",
    "print(\"data[0] : \", data[0])\n",
    "print(\"shape : \", np.array(data).shape)"
   ]
  },
  {
   "cell_type": "code",
   "execution_count": 4,
   "metadata": {},
   "outputs": [
    {
     "name": "stdout",
     "output_type": "stream",
     "text": [
      "Xtrain[59] :  [[0.09113164]\n",
      " [0.08939671]\n",
      " [0.09003534]\n",
      " [0.07219644]\n",
      " [0.06693844]\n",
      " [0.06270223]\n",
      " [0.06022224]\n",
      " [0.06222326]\n",
      " [0.06560797]\n",
      " [0.0623297 ]\n",
      " [0.05967941]\n",
      " [0.05065353]\n",
      " [0.05352733]\n",
      " [0.06356437]\n",
      " [0.06336214]\n",
      " [0.05652887]\n",
      " [0.05933881]\n",
      " [0.07210065]\n",
      " [0.06872658]\n",
      " [0.06896075]\n",
      " [0.06281931]\n",
      " [0.06503321]\n",
      " [0.06905654]\n",
      " [0.06948229]\n",
      " [0.06719389]\n",
      " [0.06278738]\n",
      " [0.05745487]\n",
      " [0.06290446]\n",
      " [0.06406463]\n",
      " [0.06965259]\n",
      " [0.06573569]\n",
      " [0.0614782 ]\n",
      " [0.05986035]\n",
      " [0.04978074]\n",
      " [0.04753491]\n",
      " [0.04173408]\n",
      " [0.04973816]\n",
      " [0.04266008]\n",
      " [0.04621509]\n",
      " [0.04098902]\n",
      " [0.04611929]\n",
      " [0.04956786]\n",
      " [0.04887602]\n",
      " [0.04985525]\n",
      " [0.04426729]\n",
      " [0.0503555 ]\n",
      " [0.0520585 ]\n",
      " [0.04769457]\n",
      " [0.05261197]\n",
      " [0.0401588 ]\n",
      " [0.04044619]\n",
      " [0.04901439]\n",
      " [0.04477818]\n",
      " [0.04982331]\n",
      " [0.04567226]\n",
      " [0.04558711]\n",
      " [0.04650247]\n",
      " [0.04260686]\n",
      " [0.0441502 ]\n",
      " [0.04353287]]\n",
      "Xtrain shape :  (9890, 60, 1)\n",
      "ytrain[0] :  [0.08939671]\n",
      "ytrain shape :  (9890, 1)\n"
     ]
    }
   ],
   "source": [
    "features = []\n",
    "labels = []\n",
    "\n",
    "for i in range(60, len(data)):\n",
    "    features.append(data[i-60:i])\n",
    "    labels.append(data[i])\n",
    "\n",
    "features = np.array(features)\n",
    "labels = np.array(labels)\n",
    "split_constant = int(features.shape[0]*0.8)\n",
    "split_constant = -50\n",
    "\n",
    "Xtrain, Xtest = features[:split_constant], features[split_constant:]\n",
    "ytrain, ytest = labels[:split_constant], labels[split_constant:]\n",
    "\n",
    "print(\"Xtrain[59] : \", Xtrain[59])\n",
    "print(\"Xtrain shape : \", Xtrain.shape)\n",
    "print(\"ytrain[0] : \", ytrain[0])\n",
    "print(\"ytrain shape : \", ytrain.shape)"
   ]
  },
  {
   "attachments": {},
   "cell_type": "markdown",
   "metadata": {},
   "source": [
    "#### Model Training and Testing"
   ]
  },
  {
   "cell_type": "code",
   "execution_count": 5,
   "metadata": {},
   "outputs": [
    {
     "name": "stderr",
     "output_type": "stream",
     "text": [
      "Using TensorFlow backend.\n"
     ]
    },
    {
     "name": "stdout",
     "output_type": "stream",
     "text": [
      "Number of GPU:  1\n",
      "[PhysicalDevice(name='/physical_device:GPU:0', device_type='GPU')]\n"
     ]
    }
   ],
   "source": [
    "import pandas as pd\n",
    "import numpy as np\n",
    "import tensorflow as tf\n",
    "from keras.models import Sequential\n",
    "from keras.layers import Dense, Dropout, LSTM, InputLayer\n",
    "from keras.optimizers import Adam\n",
    "\n",
    "physical_devices = tf.config.experimental.list_physical_devices(\"GPU\")\n",
    "print(\"Number of GPU: \", len(physical_devices))\n",
    "print(physical_devices)\n",
    "\n",
    "if len(physical_devices) != 0:\n",
    "    tf.config.experimental.set_memory_growth(physical_devices[0], True)"
   ]
  },
  {
   "cell_type": "code",
   "execution_count": 6,
   "metadata": {},
   "outputs": [
    {
     "name": "stdout",
     "output_type": "stream",
     "text": [
      "Model: \"sequential_1\"\n",
      "_________________________________________________________________\n",
      "Layer (type)                 Output Shape              Param #   \n",
      "=================================================================\n",
      "lstm_1 (LSTM)                (None, 60, 50)            10400     \n",
      "_________________________________________________________________\n",
      "dropout_1 (Dropout)          (None, 60, 50)            0         \n",
      "_________________________________________________________________\n",
      "lstm_2 (LSTM)                (None, 60, 50)            20200     \n",
      "_________________________________________________________________\n",
      "dropout_2 (Dropout)          (None, 60, 50)            0         \n",
      "_________________________________________________________________\n",
      "lstm_3 (LSTM)                (None, 60, 50)            20200     \n",
      "_________________________________________________________________\n",
      "dropout_3 (Dropout)          (None, 60, 50)            0         \n",
      "_________________________________________________________________\n",
      "lstm_4 (LSTM)                (None, 50)                20200     \n",
      "_________________________________________________________________\n",
      "dropout_4 (Dropout)          (None, 50)                0         \n",
      "_________________________________________________________________\n",
      "dense_1 (Dense)              (None, 1)                 51        \n",
      "=================================================================\n",
      "Total params: 71,051\n",
      "Trainable params: 71,051\n",
      "Non-trainable params: 0\n",
      "_________________________________________________________________\n"
     ]
    }
   ],
   "source": [
    "model = Sequential()\n",
    "\n",
    "model.add(InputLayer(input_shape=(Xtrain.shape[1], 1)))\n",
    "model.add(LSTM(units=50, return_sequences=True))\n",
    "model.add(Dropout(0.2))\n",
    "model.add(LSTM(units=50, return_sequences=True))\n",
    "model.add(Dropout(0.2))\n",
    "model.add(LSTM(units=50, return_sequences=True))\n",
    "model.add(Dropout(0.2))\n",
    "model.add(LSTM(units=50))\n",
    "model.add(Dropout(0.2))\n",
    "\n",
    "model.add(Dense(units=1))\n",
    "\n",
    "model.compile(optimizer=Adam(learning_rate=0.01), loss=\"mean_squared_error\")\n",
    "model.summary()\n"
   ]
  },
  {
   "cell_type": "code",
   "execution_count": 7,
   "metadata": {},
   "outputs": [
    {
     "name": "stdout",
     "output_type": "stream",
     "text": [
      "Epoch 1/1\n",
      "9890/9890 [==============================] - 258s 26ms/step - loss: 0.0075\n"
     ]
    },
    {
     "data": {
      "text/plain": [
       "<keras.callbacks.callbacks.History at 0x1a6dd895248>"
      ]
     },
     "execution_count": 7,
     "metadata": {},
     "output_type": "execute_result"
    }
   ],
   "source": [
    "model.fit(Xtrain, ytrain, epochs=1, batch_size=10)"
   ]
  },
  {
   "cell_type": "code",
   "execution_count": 11,
   "metadata": {},
   "outputs": [],
   "source": [
    "predictions = model.predict(Xtest)\n"
   ]
  },
  {
   "cell_type": "code",
   "execution_count": 12,
   "metadata": {},
   "outputs": [
    {
     "data": {
      "text/plain": [
       "[<matplotlib.lines.Line2D at 0x1a690db3388>]"
      ]
     },
     "execution_count": 12,
     "metadata": {},
     "output_type": "execute_result"
    },
    {
     "data": {
      "image/png": "[encoded data removed]",
      "text/plain": [
       "<Figure size 640x480 with 1 Axes>"
      ]
     },
     "metadata": {},
     "output_type": "display_data"
    }
   ],
   "source": [
    "predictions.tolist()\n",
    "plt.plot(ytest)\n",
    "plt.plot(predictions)"
   ]
  },
  {
   "cell_type": "code",
   "execution_count": 13,
   "metadata": {},
   "outputs": [],
   "source": [
    "model.save(\"data/model.h5\")"
   ]
  }
 ],
 "metadata": {
  "kernelspec": {
   "display_name": "deeplearning",
   "language": "python",
   "name": "python3"
  },
  "language_info": {
   "codemirror_mode": {
    "name": "ipython",
    "version": 3
   },
   "file_extension": ".py",
   "mimetype": "text/x-python",
   "name": "python",
   "nbconvert_exporter": "python",
   "pygments_lexer": "ipython3",
   "version": "3.7.16"
  },
  "orig_nbformat": 4
 },
 "nbformat": 4,
 "nbformat_minor": 2
}
